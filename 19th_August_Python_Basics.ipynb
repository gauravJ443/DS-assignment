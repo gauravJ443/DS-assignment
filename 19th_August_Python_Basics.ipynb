{
 "cells": [
  {
   "cell_type": "code",
   "execution_count": 2,
   "id": "52e0a35b",
   "metadata": {},
   "outputs": [
    {
     "name": "stdout",
     "output_type": "stream",
     "text": [
      "15\n",
      "10\n"
     ]
    }
   ],
   "source": [
    "# [1Q] Declare two variables, `x` and `y`, and assign them integer values. Swap the values of these variables without using any temporary variable.\n",
    "x= 10\n",
    "y= 15\n",
    "x,y = y,x\n",
    "\n",
    "print(x)\n",
    "print(y)"
   ]
  },
  {
   "cell_type": "code",
   "execution_count": 4,
   "id": "e6ba8372",
   "metadata": {},
   "outputs": [
    {
     "name": "stdout",
     "output_type": "stream",
     "text": [
      "Enter the value of length: 3\n",
      "Enter the value of width: 4\n",
      "The area of Rectangle is 12\n"
     ]
    }
   ],
   "source": [
    "#[2Q]Create a program that calculates the area of a rectangle. Take the length and width as inputs from the user and store them in variables. Calculate and display the area.\n",
    "x= int(input(\"Enter the value of length: \"))\n",
    "y= int(input(\"Enter the value of width: \"))\n",
    "Area= x*y\n",
    "print(f\"The area of Rectangle is {Area}\")"
   ]
  },
  {
   "cell_type": "code",
   "execution_count": 5,
   "id": "13317a98",
   "metadata": {},
   "outputs": [
    {
     "name": "stdout",
     "output_type": "stream",
     "text": [
      "Enter the temperature in Celsius: 40\n",
      "The temperature in Fahrenheit is: 104.0\n"
     ]
    }
   ],
   "source": [
    "#[3Q] Write a Python program that converts temperatures from Celsius toFahrenheit. Take the temperature in Celsius as input, store it in a variable, convert it to Fahrenheit, and display the result.\n",
    "celsius = float(input(\"Enter the temperature in Celsius: \"))\n",
    "fahrenheit = celsius * 9/5 + 32\n",
    "\n",
    "print(\"The temperature in Fahrenheit is:\", fahrenheit)"
   ]
  },
  {
   "cell_type": "code",
   "execution_count": 6,
   "id": "08cdc899",
   "metadata": {},
   "outputs": [],
   "source": [
    "#String Based Questions"
   ]
  },
  {
   "cell_type": "code",
   "execution_count": 10,
   "id": "760c2bba",
   "metadata": {},
   "outputs": [
    {
     "name": "stdout",
     "output_type": "stream",
     "text": [
      "Enter a String: 16\n",
      "The length of 16 is 2\n"
     ]
    }
   ],
   "source": [
    "# Q1 Write a Python program that takes a string as input and prints the length of the string.\n",
    "string_func= input(\"Enter a String: \")\n",
    "length_str= len(string_func)\n",
    "print(f\"The length of {string_func} is {length_str}\")"
   ]
  },
  {
   "cell_type": "code",
   "execution_count": 12,
   "id": "512168db",
   "metadata": {},
   "outputs": [
    {
     "name": "stdout",
     "output_type": "stream",
     "text": [
      "write a sentence: alohacoha\n",
      "The number of vowels in a sentence is 5\n"
     ]
    }
   ],
   "source": [
    "# Q2 Create a program that takes a sentence from the user and counts the numberof vowels (a, e, i, o, u) in the string.\n",
    "sentence= input(\"write a sentence: \")\n",
    "vowels= \"aeiouAEIOU\"\n",
    "vowel_count=0\n",
    "for char in sentence:\n",
    "    if char in vowels:\n",
    "        vowel_count +=1\n",
    "        \n",
    "print(f\"The number of vowels in a sentence is {vowel_count}\")"
   ]
  },
  {
   "cell_type": "code",
   "execution_count": 14,
   "id": "9e8664d4",
   "metadata": {},
   "outputs": [
    {
     "name": "stdout",
     "output_type": "stream",
     "text": [
      "Write a Sentence: sanu\n",
      "The orignal senetncesanu & after slicing it becomes unas\n"
     ]
    }
   ],
   "source": [
    "# Q3 Given a string, reverse the order of characters using string slicing and print the reversed string.\n",
    "sentence= input(\"Write a Sentence: \")\n",
    "new= sentence[::-1]\n",
    "print(f\"The orignal senetnce{sentence} & after slicing it becomes {new}\")"
   ]
  },
  {
   "cell_type": "code",
   "execution_count": 16,
   "id": "90e3e2f1",
   "metadata": {},
   "outputs": [
    {
     "name": "stdout",
     "output_type": "stream",
     "text": [
      "Enter a string: racecar\n",
      "The string is a palindrome\n"
     ]
    }
   ],
   "source": [
    "# Q4 Write a program that takes a string as input and checks if it is a palindrome(reads the same forwards and backwards).\n",
    "string = input(\"Enter a string: \")\n",
    "reversed_string = \"\"\n",
    "for i in range(len(string) - 1, -1, -1):\n",
    "  reversed_string += string[i]\n",
    "\n",
    "if string == reversed_string:\n",
    "  print(\"The string is a palindrome\")\n",
    "else:\n",
    "  print(\"The string is not a palindrome\")"
   ]
  },
  {
   "cell_type": "code",
   "execution_count": 40,
   "id": "906ae071",
   "metadata": {},
   "outputs": [
    {
     "name": "stdout",
     "output_type": "stream",
     "text": [
      "Enter the string input: keele  pe d  o\n",
      "The string with no spaces keele  pe d  o\n"
     ]
    }
   ],
   "source": [
    "# Q5 Create a program that takes a string as input and removes all the spaces from it.Print the modified string without spaces.\n",
    "string_inp=input(\"Enter the string input: \")\n",
    "no_space= \"\".join(char for char in string_inp if char != \" \")\n",
    "print(f\"The string with no spaces {no_space}\")\n"
   ]
  },
  {
   "cell_type": "code",
   "execution_count": 42,
   "id": "e6ddb5d9",
   "metadata": {},
   "outputs": [
    {
     "name": "stdout",
     "output_type": "stream",
     "text": [
      "Enter the string input: hello t o the theater\n",
      "The ne no_Space string ishellotothetheater \n"
     ]
    }
   ],
   "source": [
    "#second method\n",
    "string_inp=input(\"Enter the string input: \")\n",
    "no_space=  string_inp.replace(\" \",\"\")\n",
    "print(f\"The ne no_Space string is: {no_space} \")"
   ]
  },
  {
   "cell_type": "code",
   "execution_count": null,
   "id": "6c3da4a9",
   "metadata": {},
   "outputs": [],
   "source": []
  }
 ],
 "metadata": {
  "kernelspec": {
   "display_name": "Python 3 (ipykernel)",
   "language": "python",
   "name": "python3"
  },
  "language_info": {
   "codemirror_mode": {
    "name": "ipython",
    "version": 3
   },
   "file_extension": ".py",
   "mimetype": "text/x-python",
   "name": "python",
   "nbconvert_exporter": "python",
   "pygments_lexer": "ipython3",
   "version": "3.9.13"
  }
 },
 "nbformat": 4,
 "nbformat_minor": 5
}
